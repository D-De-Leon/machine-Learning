{
 "cells": [
  {
   "cell_type": "code",
   "execution_count": 2,
   "id": "1a505f5e",
   "metadata": {},
   "outputs": [],
   "source": [
    "%matplotlib inline\n",
    "import matplotlib.pyplot as plt\n",
    "import numpy as np\n",
    "import pandas as pd\n"
   ]
  },
  {
   "cell_type": "markdown",
   "id": "c655f283",
   "metadata": {},
   "source": [
    "Code to create sample data set"
   ]
  },
  {
   "cell_type": "code",
   "execution_count": 3,
   "id": "49712d9d",
   "metadata": {},
   "outputs": [
    {
     "ename": "AttributeError",
     "evalue": "module 'pandas' has no attribute 'csv'",
     "output_type": "error",
     "traceback": [
      "\u001b[0;31m---------------------------------------------------------------------------\u001b[0m",
      "\u001b[0;31mAttributeError\u001b[0m                            Traceback (most recent call last)",
      "\u001b[0;32m/var/folders/t0/6g2ykcn10195fc8rwbkghyfm0000gn/T/ipykernel_5512/1514666320.py\u001b[0m in \u001b[0;36m<module>\u001b[0;34m\u001b[0m\n\u001b[0;32m----> 1\u001b[0;31m \u001b[0mhousingDataSet\u001b[0m \u001b[0;34m=\u001b[0m \u001b[0mpd\u001b[0m\u001b[0;34m.\u001b[0m\u001b[0mcsv\u001b[0m\u001b[0;34m(\u001b[0m\u001b[0;34m)\u001b[0m\u001b[0;34m\u001b[0m\u001b[0;34m\u001b[0m\u001b[0m\n\u001b[0m",
      "\u001b[0;32m~/opt/anaconda3/envs/Machin_learning/lib/python3.9/site-packages/pandas/__init__.py\u001b[0m in \u001b[0;36m__getattr__\u001b[0;34m(name)\u001b[0m\n\u001b[1;32m    262\u001b[0m         \u001b[0;32mreturn\u001b[0m \u001b[0m_SparseArray\u001b[0m\u001b[0;34m\u001b[0m\u001b[0;34m\u001b[0m\u001b[0m\n\u001b[1;32m    263\u001b[0m \u001b[0;34m\u001b[0m\u001b[0m\n\u001b[0;32m--> 264\u001b[0;31m     \u001b[0;32mraise\u001b[0m \u001b[0mAttributeError\u001b[0m\u001b[0;34m(\u001b[0m\u001b[0;34mf\"module 'pandas' has no attribute '{name}'\"\u001b[0m\u001b[0;34m)\u001b[0m\u001b[0;34m\u001b[0m\u001b[0;34m\u001b[0m\u001b[0m\n\u001b[0m\u001b[1;32m    265\u001b[0m \u001b[0;34m\u001b[0m\u001b[0m\n\u001b[1;32m    266\u001b[0m \u001b[0;34m\u001b[0m\u001b[0m\n",
      "\u001b[0;31mAttributeError\u001b[0m: module 'pandas' has no attribute 'csv'"
     ]
    }
   ],
   "source": [
    "housingDataSet = pd.csv()"
   ]
  },
  {
   "cell_type": "code",
   "execution_count": 110,
   "id": "2ae94adc",
   "metadata": {
    "scrolled": false
   },
   "outputs": [
    {
     "data": {
      "text/html": [
       "<div>\n",
       "<style scoped>\n",
       "    .dataframe tbody tr th:only-of-type {\n",
       "        vertical-align: middle;\n",
       "    }\n",
       "\n",
       "    .dataframe tbody tr th {\n",
       "        vertical-align: top;\n",
       "    }\n",
       "\n",
       "    .dataframe thead th {\n",
       "        text-align: right;\n",
       "    }\n",
       "</style>\n",
       "<table border=\"1\" class=\"dataframe\">\n",
       "  <thead>\n",
       "    <tr style=\"text-align: right;\">\n",
       "      <th></th>\n",
       "      <th>Living area (ft^2</th>\n",
       "      <th># Bedrooms</th>\n",
       "      <th>Price (1000$s)</th>\n",
       "    </tr>\n",
       "  </thead>\n",
       "  <tbody>\n",
       "    <tr>\n",
       "      <th>0</th>\n",
       "      <td>2104</td>\n",
       "      <td>3</td>\n",
       "      <td>400</td>\n",
       "    </tr>\n",
       "    <tr>\n",
       "      <th>1</th>\n",
       "      <td>1600</td>\n",
       "      <td>3</td>\n",
       "      <td>330</td>\n",
       "    </tr>\n",
       "    <tr>\n",
       "      <th>2</th>\n",
       "      <td>2400</td>\n",
       "      <td>3</td>\n",
       "      <td>369</td>\n",
       "    </tr>\n",
       "    <tr>\n",
       "      <th>3</th>\n",
       "      <td>1416</td>\n",
       "      <td>2</td>\n",
       "      <td>232</td>\n",
       "    </tr>\n",
       "    <tr>\n",
       "      <th>4</th>\n",
       "      <td>3000</td>\n",
       "      <td>4</td>\n",
       "      <td>540</td>\n",
       "    </tr>\n",
       "  </tbody>\n",
       "</table>\n",
       "</div>"
      ],
      "text/plain": [
       "   Living area (ft^2  # Bedrooms  Price (1000$s)\n",
       "0               2104           3             400\n",
       "1               1600           3             330\n",
       "2               2400           3             369\n",
       "3               1416           2             232\n",
       "4               3000           4             540"
      ]
     },
     "execution_count": 110,
     "metadata": {},
     "output_type": "execute_result"
    }
   ],
   "source": [
    "housingData = {'Living area (ft^2':[2104,1600,2400,1416,3000], \n",
    "'# Bedrooms': [3,3,3,2,4], \n",
    "'Price (1000$s)': [400,330,369,232,540]}\n",
    "\n",
    "housingDF = pd.DataFrame(data = housingData)\n",
    "\n",
    "\n",
    "housingDF"
   ]
  },
  {
   "cell_type": "code",
   "execution_count": 234,
   "id": "c9c0b534",
   "metadata": {},
   "outputs": [],
   "source": [
    "import numpy as np\n",
    "import matplotlib.pyplot as plt\n",
    "\n",
    "def gradient_descent(x, y, theta, alpha, num_iters):\n",
    "    m = len(y)\n",
    "    costs = []\n",
    "    \n",
    "    for i in range(0, num_iters):\n",
    "        hypothesis = np.dot(X, theta)\n",
    "        error = hypothesis - y\n",
    "        gradient = np.dot(X.T, error) / m\n",
    "        theta = theta - alpha * gradient\n",
    "        cost = cost_function(X, y, theta)\n",
    "        costs.append(cost)\n",
    "    return theta, costs\n",
    "\n",
    "def predict(x, theta):\n",
    "    return np.dot(x, theta)\n",
    "\n",
    "def cost_function(x, y, theta):\n",
    "    m = len(y)\n",
    "    hypothesis = predict(x, theta)\n",
    "    error = hypothesis - y\n",
    "    cost = np.sum(error ** 2) / (2*m)\n",
    "    return cost\n",
    "\n",
    "def normalEquation(x,y):\n",
    "    \n",
    "#     x = np.c_[np.ones(X.shape[0]),X]\n",
    "    \n",
    "    A = np.linalg.inv(np.dot(np.transpose(x), x))\n",
    "    \n",
    "    B = np.dot(np.transpose(x),y)\n",
    "    \n",
    "    theta = np.dot(A,B)\n",
    "    \n",
    "    return theta\n",
    "\n"
   ]
  },
  {
   "cell_type": "code",
   "execution_count": 236,
   "id": "99d2d6ec",
   "metadata": {
    "scrolled": false
   },
   "outputs": [
    {
     "name": "stdout",
     "output_type": "stream",
     "text": [
      "The optimized theta values:  [-7.04346018e+01  6.38433756e-02  1.03436047e+02]\n",
      "The cost:  144.4144432699083\n"
     ]
    },
    {
     "data": {
      "image/png": "[encoded data removed]",
      "text/plain": [
       "<Figure size 640x480 with 1 Axes>"
      ]
     },
     "metadata": {},
     "output_type": "display_data"
    }
   ],
   "source": [
    "# Convert the DataFrame into a NumPy array\n",
    "data = np.array(housingDF)\n",
    "\n",
    "# Extract the first two columns as input features and the third column as output\n",
    "X = data[:, :2]\n",
    "y = data[:, 2]\n",
    "\n",
    "np.shape(X)\n",
    "\n",
    "# print(X)\n",
    "\n",
    "# print(np.shape(X))\n",
    "# print(np.shape(y))\n",
    "\n",
    "# Get the number of training examples\n",
    "m = len(y)\n",
    "\n",
    "# # Add a column of ones to the input matrix for the bias term\n",
    "X = np.hstack((np.ones((m, 1)), X))\n",
    "\n",
    "# print(X)\n",
    "\n",
    "# print(q)\n",
    "\n",
    "# print(np.shape(X))\n",
    "# print(np.shape(y))\n",
    "\n",
    "# Initialize the model parameters to zero\n",
    "# theta = np.zeros(3)\n",
    "\n",
    "# Set the hyperparameters for gradient descent\n",
    "num_iters = 1500\n",
    "alpha = 0.0000001\n",
    "\n",
    "# Run the normal equation to find the optimal theta values\n",
    "theta = normalEquation(X, y)\n",
    "\n",
    "# print(theta)\n",
    "\n",
    "# Run gradient descent to find the optimal theta values\n",
    "# theta, costs = gradient_descent(X, y, theta, alpha, num_iters)\n",
    "\n",
    "# Print the optimized theta values and the final cost\n",
    "print(\"The optimized theta values: \", theta)\n",
    "print(\"The cost: \", cost_function(X, y, theta))\n",
    "\n",
    "# Plot the data points and the linear regression line\n",
    "plt.scatter(X[:, 1], y)\n",
    "plt.xlabel(\"Living Area (ft^2)\")\n",
    "plt.ylabel(\"Price (1000$s)\")\n",
    "plt.plot(X[:, 1], predict(X, theta), 'r')\n",
    "plt.show()\n",
    "\n",
    "# Generate the grid of theta values for the contour plot\n",
    "theta_0_vals, theta_1_vals = np.linspace(-10, 10, 100), np.linspace(-1, 4, 100)\n",
    "theta_0_vals, theta_1_vals = np.meshgrid(theta_0_vals, theta_1_vals)\n",
    "cost_vals = np.zeros(theta_0_vals.shape)\n",
    "\n",
    "# Calculate the cost for each value of theta_0 and theta_1\n",
    "for i in range(theta_0_vals.shape[1]):\n",
    "    for j in range(theta_1_vals.shape[0]):\n",
    "        theta = np.array([theta_0_vals[j, i], theta_1_vals[j, i]])\n",
    "        cost_vals[j, i] = cost_function(X[:, 1:3], y, theta)\n",
    "\n"
   ]
  },
  {
   "cell_type": "code",
   "execution_count": 172,
   "id": "299af950",
   "metadata": {},
   "outputs": [],
   "source": [
    "import numpy as np\n",
    "\n",
    "class LinearRegression:\n",
    "    def __init__(self, fit_intercept=True, method='bgd', alpha=0.01, num_iterations=1000):\n",
    "        self.fit_intercept = fit_intercept\n",
    "        self.method = method\n",
    "        self.alpha = alpha\n",
    "        self.num_iterations = num_iterations\n",
    "        self.theta = None\n",
    "        \n",
    "    def _add_intercept(self, X):\n",
    "        m = X.shape[0]\n",
    "        return np.hstack((np.ones((m, 1)), X))\n",
    "    \n",
    "    def fit(self, X, y):\n",
    "        if self.fit_intercept:\n",
    "            X = self._add_intercept(X)\n",
    "        \n",
    "        if self.method == 'bgd':\n",
    "            self.theta = self._batch_gradient_descent(X, y)\n",
    "        elif self.method == 'normal':\n",
    "            self.theta = self._normal_equation(X, y)\n",
    "        else:\n",
    "            raise ValueError(\"Unknown method %s\" % self.method)\n",
    "        \n",
    "    def predict(self, X):\n",
    "        if self.fit_intercept:\n",
    "            X = self._add_intercept(X)\n",
    "        return np.dot(X, self.theta)\n",
    "    \n",
    "    def _batch_gradient_descent(self, X, y):\n",
    "        m, n = X.shape\n",
    "        theta = np.zeros(n)\n",
    "        for i in range(self.num_iterations):\n",
    "            hypothesis = np.dot(X, theta)\n",
    "            error = hypothesis - y\n",
    "            gradient = np.dot(X.T, error) / m\n",
    "            theta = theta - self.alpha * gradient\n",
    "        return theta\n",
    "    \n",
    "    def _normal_equation(self, X, y):\n",
    "        return np.linalg.inv(X.T.dot(X)).dot(X.T).dot(y)\n"
   ]
  },
  {
   "cell_type": "code",
   "execution_count": 108,
   "id": "b78be5bd",
   "metadata": {},
   "outputs": [
    {
     "name": "stderr",
     "output_type": "stream",
     "text": [
      "/var/folders/t0/6g2ykcn10195fc8rwbkghyfm0000gn/T/ipykernel_70517/1742793671.py:38: RuntimeWarning: invalid value encountered in subtract\n",
      "  theta = theta - self.alpha * gradient\n"
     ]
    },
    {
     "ename": "AttributeError",
     "evalue": "'LinearRegression' object has no attribute 'coef_'",
     "output_type": "error",
     "traceback": [
      "\u001b[0;31m---------------------------------------------------------------------------\u001b[0m",
      "\u001b[0;31mAttributeError\u001b[0m                            Traceback (most recent call last)",
      "\u001b[0;32m/var/folders/t0/6g2ykcn10195fc8rwbkghyfm0000gn/T/ipykernel_70517/3020892900.py\u001b[0m in \u001b[0;36m<module>\u001b[0;34m\u001b[0m\n\u001b[1;32m     21\u001b[0m \u001b[0;34m\u001b[0m\u001b[0m\n\u001b[1;32m     22\u001b[0m \u001b[0;31m# Print the model coefficients and intercept\u001b[0m\u001b[0;34m\u001b[0m\u001b[0;34m\u001b[0m\u001b[0m\n\u001b[0;32m---> 23\u001b[0;31m \u001b[0mprint\u001b[0m\u001b[0;34m(\u001b[0m\u001b[0;34m'Coefficients:'\u001b[0m\u001b[0;34m,\u001b[0m \u001b[0mlr\u001b[0m\u001b[0;34m.\u001b[0m\u001b[0mcoef_\u001b[0m\u001b[0;34m)\u001b[0m\u001b[0;34m\u001b[0m\u001b[0;34m\u001b[0m\u001b[0m\n\u001b[0m\u001b[1;32m     24\u001b[0m \u001b[0mprint\u001b[0m\u001b[0;34m(\u001b[0m\u001b[0;34m'Intercept:'\u001b[0m\u001b[0;34m,\u001b[0m \u001b[0mlr\u001b[0m\u001b[0;34m.\u001b[0m\u001b[0mintercept_\u001b[0m\u001b[0;34m)\u001b[0m\u001b[0;34m\u001b[0m\u001b[0;34m\u001b[0m\u001b[0m\n\u001b[1;32m     25\u001b[0m \u001b[0;34m\u001b[0m\u001b[0m\n",
      "\u001b[0;31mAttributeError\u001b[0m: 'LinearRegression' object has no attribute 'coef_'"
     ]
    }
   ],
   "source": [
    "import numpy as np\n",
    "import pandas as pd\n",
    "import matplotlib.pyplot as plt\n",
    "\n",
    "# Load the housing data into a DataFrame\n",
    "housingDF = pd.DataFrame({\n",
    "    'Living area (ft^2)': [2104, 1600, 2400, 1416, 3000],\n",
    "    '# Bedrooms': [3, 3, 3, 2, 4],\n",
    "    'Price (1000$s)': [400, 330, 369, 232, 540]\n",
    "})\n",
    "\n",
    "# Extract the input features and target variable as NumPy arrays\n",
    "X = housingDF[['Living area (ft^2)', '# Bedrooms']].values\n",
    "y = housingDF['Price (1000$s)'].values\n",
    "\n",
    "# Create an instance of the LinearRegression class\n",
    "lr = LinearRegression()\n",
    "\n",
    "# Train the model using the normal equation\n",
    "lr.fit(X, y)\n",
    "\n",
    "# Print the model coefficients and intercept\n",
    "print('Coefficients:', lr.coef_)\n",
    "print('Intercept:', lr.intercept_)\n",
    "\n",
    "# Make a prediction for a new input example\n",
    "x_new = np.array([2000, 3])\n",
    "y_pred = lr.predict(x_new)\n",
    "print('Predicted price:', y_pred)\n",
    "\n",
    "# Visualize the model predictions\n",
    "plt.scatter(X[:, 0], y)\n",
    "plt.xlabel('Living area (ft^2)')\n",
    "plt.ylabel('Price (1000$s)')\n",
    "x_line = np.linspace(1000, 3500, 100)\n",
    "y_line = lr.intercept_ + lr.coef_[0]*x_line + lr.coef_[1]*3\n",
    "plt.plot(x_line, y_line, color='red')\n",
    "plt.show()\n"
   ]
  },
  {
   "cell_type": "code",
   "execution_count": null,
   "id": "4416012b",
   "metadata": {},
   "outputs": [],
   "source": []
  }
 ],
 "metadata": {
  "kernelspec": {
   "display_name": "Python 3 (ipykernel)",
   "language": "python",
   "name": "python3"
  },
  "language_info": {
   "codemirror_mode": {
    "name": "ipython",
    "version": 3
   },
   "file_extension": ".py",
   "mimetype": "text/x-python",
   "name": "python",
   "nbconvert_exporter": "python",
   "pygments_lexer": "ipython3",
   "version": "3.9.13"
  }
 },
 "nbformat": 4,
 "nbformat_minor": 5
}
